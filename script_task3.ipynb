#%%

# Init environment
import docker
import requests

client = docker.from_env()


#%% md

TASK 1

#%%

# Because I have run the "nclcloudcomputing/javabenchmarkapp" via CLI using container name "javabenchmarkapp-task1"
# I can get the container by it's name.

container_name = 'javabenchmarkapp-task1'
container = None
try:
    container = client.containers.get(container_name)
except requests.HTTPError:
    print('No such container, need to run this image to create a new container')

if container is None:
    # Run a new container
    container = client.containers.run(image='nclcloudcomputing/javabenchmarkapp', detach=True, name=container_name, ports={"8080": "8080"})
    print("Successfully run a new container [{}] : {} : {}".format(container_name, container, container.status))
else:
    print("The container already exists [{}]:[{}], the status is {}".format(container_name, container.id, container.status))
    if container.status == 'exited':
        print("Start the container from exited status")
        container.start()

# List all the running containers
client.containers.list()

#%%

# Check if "nclcloudcomputing/javabenchmarkapp" is started successfully.
res = requests.get("http://localhost:8080/primecheck")
print("The result is", res.text)


