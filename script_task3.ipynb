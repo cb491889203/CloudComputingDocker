{
 "cells": [
  {
   "cell_type": "code",
   "execution_count": 8,
   "metadata": {
    "collapsed": true
   },
   "outputs": [],
   "source": [
    "import docker\n",
    "import subprocess\n",
    "\n",
    "client = docker.from_env()\n",
    "\n",
    "\n",
    "def printAllImages():\n",
    "    imgs = client.images.list()\n",
    "    for img in imgs:\n",
    "        print(img)\n"
   ]
  },
  {
   "cell_type": "markdown",
   "source": [
    "### TASK 3\n",
    "\n"
   ],
   "metadata": {
    "collapsed": false,
    "pycharm": {
     "name": "#%% md\n"
    }
   }
  },
  {
   "cell_type": "markdown",
   "source": [
    "#### 1. Firstly, build the maven project: cadvisor-scraper\n"
   ],
   "metadata": {
    "collapsed": false,
    "pycharm": {
     "name": "#%% md\n"
    }
   }
  },
  {
   "cell_type": "code",
   "execution_count": 9,
   "outputs": [
    {
     "name": "stdout",
     "output_type": "stream",
     "text": [
      "0\n"
     ]
    }
   ],
   "source": [
    "p = subprocess.Popen('mvn package', shell=True, cwd=\"E:\\Workspace\\cadvisor-scraper\")\n",
    "p.wait()\n",
    "print(p.returncode)\n"
   ],
   "metadata": {
    "collapsed": false,
    "pycharm": {
     "name": "#%%\n"
    }
   }
  },
  {
   "cell_type": "code",
   "execution_count": 10,
   "outputs": [
    {
     "name": "stdout",
     "output_type": "stream",
     "text": [
      "<Image: 'chenbao0707/cadvisor-scraper:latest'>\n",
      "<Image: 'cadvisor-scraper:latest'>\n",
      "<Image: ''>\n",
      "<Image: ''>\n",
      "<Image: ''>\n",
      "<Image: 'chenbao0707/cadvisor-scrapper:latest'>\n",
      "<Image: ''>\n",
      "<Image: 'mongo:latest'>\n",
      "<Image: 'alpine/git:latest'>\n",
      "<Image: ''>\n",
      "<Image: ''>\n",
      "<Image: 'locustio/locust:latest'>\n",
      "<Image: 'mongo-express:latest'>\n",
      "<Image: 'ubuntu:20.04', 'ubuntu:latest'>\n",
      "<Image: 'dockersamples/visualizer:latest'>\n",
      "<Image: 'gcr.io/cadvisor/cadvisor:latest'>\n",
      "<Image: 'nclcloudcomputing/javabenchmarkapp:latest'>\n"
     ]
    }
   ],
   "source": [
    "printAllImages()"
   ],
   "metadata": {
    "collapsed": false,
    "pycharm": {
     "name": "#%%\n"
    }
   }
  },
  {
   "cell_type": "markdown",
   "source": [
    "#### 2. Secondly, delete the old images"
   ],
   "metadata": {
    "collapsed": false,
    "pycharm": {
     "name": "#%% md\n"
    }
   }
  },
  {
   "cell_type": "code",
   "execution_count": 11,
   "outputs": [
    {
     "name": "stdout",
     "output_type": "stream",
     "text": [
      "Image [ cadvisor-scraper ] has been deleted successfully.\n",
      "Image [ chenbao0707/cadvisor-scraper ] has been deleted successfully.\n",
      "<Image: ''>\n",
      "<Image: ''>\n",
      "<Image: ''>\n",
      "<Image: ''>\n",
      "<Image: 'chenbao0707/cadvisor-scrapper:latest'>\n",
      "<Image: ''>\n",
      "<Image: 'mongo:latest'>\n",
      "<Image: 'alpine/git:latest'>\n",
      "<Image: ''>\n",
      "<Image: ''>\n",
      "<Image: 'locustio/locust:latest'>\n",
      "<Image: 'mongo-express:latest'>\n",
      "<Image: 'ubuntu:20.04', 'ubuntu:latest'>\n",
      "<Image: 'dockersamples/visualizer:latest'>\n",
      "<Image: 'gcr.io/cadvisor/cadvisor:latest'>\n",
      "<Image: 'nclcloudcomputing/javabenchmarkapp:latest'>\n"
     ]
    }
   ],
   "source": [
    "img = 'cadvisor-scraper'\n",
    "remote_img = 'chenbao0707/cadvisor-scraper'\n",
    "\n",
    "try:\n",
    "    client.images.remove(image=img, force=True)\n",
    "    print(\"Image [\", img, \"] has been deleted successfully.\")\n",
    "except BaseException:\n",
    "    print(\"No such image [\", img, \"], no need to delete it.\")\n",
    "\n",
    "try:\n",
    "    client.images.remove(image=remote_img, force=True)\n",
    "    print(\"Image [\", remote_img, \"] has been deleted successfully.\")\n",
    "except BaseException:\n",
    "    print(\"No such image [\", remote_img, \"], no need to delete it.\")\n",
    "\n",
    "printAllImages()\n"
   ],
   "metadata": {
    "collapsed": false,
    "pycharm": {
     "name": "#%%\n"
    }
   }
  },
  {
   "cell_type": "markdown",
   "source": [
    "#### 3. Then build new image 'cadvisor-scraper'"
   ],
   "metadata": {
    "collapsed": false,
    "pycharm": {
     "name": "#%% md\n"
    }
   }
  },
  {
   "cell_type": "code",
   "execution_count": 12,
   "outputs": [
    {
     "name": "stdout",
     "output_type": "stream",
     "text": [
      "<itertools._tee object at 0x000002469F507C80>\n",
      "<Image: 'cadvisor-scraper:latest'>\n",
      "<Image: ''>\n",
      "<Image: ''>\n",
      "<Image: ''>\n",
      "<Image: 'chenbao0707/cadvisor-scrapper:latest'>\n",
      "<Image: ''>\n",
      "<Image: 'mongo:latest'>\n",
      "<Image: 'alpine/git:latest'>\n",
      "<Image: ''>\n",
      "<Image: ''>\n",
      "<Image: 'locustio/locust:latest'>\n",
      "<Image: 'mongo-express:latest'>\n",
      "<Image: 'ubuntu:20.04', 'ubuntu:latest'>\n",
      "<Image: 'dockersamples/visualizer:latest'>\n",
      "<Image: 'gcr.io/cadvisor/cadvisor:latest'>\n",
      "<Image: 'nclcloudcomputing/javabenchmarkapp:latest'>\n"
     ]
    }
   ],
   "source": [
    "imgBuilder = client.images.build(path='E:\\Workspace\\cadvisor-scraper', tag=img)\n",
    "newImg = imgBuilder[0]\n",
    "print(imgBuilder[1])\n",
    "\n",
    "printAllImages()"
   ],
   "metadata": {
    "collapsed": false,
    "pycharm": {
     "name": "#%%\n"
    }
   }
  },
  {
   "cell_type": "markdown",
   "source": [
    "#### 4. Tag the new image to 'chenbao0707/cadvisor-scrapper'"
   ],
   "metadata": {
    "collapsed": false,
    "pycharm": {
     "name": "#%% md\n"
    }
   }
  },
  {
   "cell_type": "code",
   "execution_count": 13,
   "outputs": [
    {
     "name": "stdout",
     "output_type": "stream",
     "text": [
      "Tagged the new built image to chenbao0707/cadvisor-scraper:\n",
      "<Image: 'chenbao0707/cadvisor-scraper:latest', 'cadvisor-scraper:latest'>\n",
      "<Image: ''>\n",
      "<Image: ''>\n",
      "<Image: ''>\n",
      "<Image: 'chenbao0707/cadvisor-scrapper:latest'>\n",
      "<Image: ''>\n",
      "<Image: 'mongo:latest'>\n",
      "<Image: 'alpine/git:latest'>\n",
      "<Image: ''>\n",
      "<Image: ''>\n",
      "<Image: 'locustio/locust:latest'>\n",
      "<Image: 'mongo-express:latest'>\n",
      "<Image: 'ubuntu:20.04', 'ubuntu:latest'>\n",
      "<Image: 'dockersamples/visualizer:latest'>\n",
      "<Image: 'gcr.io/cadvisor/cadvisor:latest'>\n",
      "<Image: 'nclcloudcomputing/javabenchmarkapp:latest'>\n"
     ]
    }
   ],
   "source": [
    "result = newImg.tag(repository=remote_img)\n",
    "print(\"Tagged the new built image to {}:\".format(remote_img, result))\n",
    "\n",
    "printAllImages()"
   ],
   "metadata": {
    "collapsed": false,
    "pycharm": {
     "name": "#%%\n"
    }
   }
  },
  {
   "cell_type": "markdown",
   "source": [
    "#### 5. Push the new image to Docker Hub"
   ],
   "metadata": {
    "collapsed": false,
    "pycharm": {
     "name": "#%% md\n"
    }
   }
  },
  {
   "cell_type": "code",
   "execution_count": 14,
   "outputs": [
    {
     "name": "stdout",
     "output_type": "stream",
     "text": [
      "{'IdentityToken': '', 'Status': 'Login Succeeded'}\n",
      "{\"status\":\"The push refers to repository [docker.io/chenbao0707/cadvisor-scraper]\"}\r\n",
      "{\"status\":\"Preparing\",\"progressDetail\":{},\"id\":\"3793ab6f8594\"}\r\n",
      "{\"status\":\"Preparing\",\"progressDetail\":{},\"id\":\"0d169e7a0473\"}\r\n",
      "{\"status\":\"Preparing\",\"progressDetail\":{},\"id\":\"3108696f0112\"}\r\n",
      "{\"status\":\"Preparing\",\"progressDetail\":{},\"id\":\"023916e2bc52\"}\r\n",
      "{\"status\":\"Preparing\",\"progressDetail\":{},\"id\":\"c7afd52f05ad\"}\r\n",
      "{\"status\":\"Preparing\",\"progressDetail\":{},\"id\":\"a3fcf14943d1\"}\r\n",
      "{\"status\":\"Preparing\",\"progressDetail\":{},\"id\":\"9f54eef41275\"}\r\n",
      "{\"status\":\"Waiting\",\"progressDetail\":{},\"id\":\"9f54eef41275\"}\r\n",
      "{\"status\":\"Waiting\",\"progressDetail\":{},\"id\":\"a3fcf14943d1\"}\r\n",
      "{\"status\":\"Layer already exists\",\"progressDetail\":{},\"id\":\"c7afd52f05ad\"}\r\n",
      "{\"status\":\"Layer already exists\",\"progressDetail\":{},\"id\":\"3108696f0112\"}\r\n",
      "{\"status\":\"Layer already exists\",\"progressDetail\":{},\"id\":\"3793ab6f8594\"}\r\n",
      "{\"status\":\"Layer already exists\",\"progressDetail\":{},\"id\":\"0d169e7a0473\"}\r\n",
      "{\"status\":\"Layer already exists\",\"progressDetail\":{},\"id\":\"023916e2bc52\"}\r\n",
      "{\"status\":\"Layer already exists\",\"progressDetail\":{},\"id\":\"a3fcf14943d1\"}\r\n",
      "{\"status\":\"Layer already exists\",\"progressDetail\":{},\"id\":\"9f54eef41275\"}\r\n",
      "{\"status\":\"latest: digest: sha256:e77a150c2ec72171ccd04fe2c6ffa3e454401732e0e3f3ba5d4e2ad09cf3cfff size: 1788\"}\r\n",
      "{\"progressDetail\":{},\"aux\":{\"Tag\":\"latest\",\"Digest\":\"sha256:e77a150c2ec72171ccd04fe2c6ffa3e454401732e0e3f3ba5d4e2ad09cf3cfff\",\"Size\":1788}}\r\n",
      "\n"
     ]
    }
   ],
   "source": [
    "print(client.login('chenbao0707'))\n",
    "result = client.images.push(repository=remote_img)\n",
    "print(result)"
   ],
   "metadata": {
    "collapsed": false,
    "pycharm": {
     "name": "#%%\n"
    }
   }
  }
 ],
 "metadata": {
  "kernelspec": {
   "name": "pycharm-334b66da",
   "language": "python",
   "display_name": "PyCharm (assessment1)"
  },
  "language_info": {
   "codemirror_mode": {
    "name": "ipython",
    "version": 2
   },
   "file_extension": ".py",
   "mimetype": "text/x-python",
   "name": "python",
   "nbconvert_exporter": "python",
   "pygments_lexer": "ipython2",
   "version": "2.7.6"
  }
 },
 "nbformat": 4,
 "nbformat_minor": 0
}