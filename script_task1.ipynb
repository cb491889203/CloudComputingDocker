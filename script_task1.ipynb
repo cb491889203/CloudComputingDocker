{
 "cells": [
  {
   "cell_type": "code",
   "execution_count": 63,
   "outputs": [],
   "source": [
    "# Init environment\n",
    "import docker\n",
    "import requests\n",
    "\n",
    "client = docker.from_env()\n"
   ],
   "metadata": {
    "collapsed": false,
    "pycharm": {
     "name": "#%%\n"
    }
   }
  },
  {
   "cell_type": "markdown",
   "source": [
    "TASK 1"
   ],
   "metadata": {
    "collapsed": false,
    "pycharm": {
     "name": "#%% md\n"
    }
   }
  },
  {
   "cell_type": "code",
   "execution_count": 65,
   "outputs": [
    {
     "data": {
      "text/plain": "1"
     },
     "execution_count": 65,
     "metadata": {},
     "output_type": "execute_result"
    }
   ],
   "source": [
    "# Because I have run the \"nclcloudcomputing/javabenchmarkapp\" via CLI using container name \"javabenchmarkapp-task1\"\n",
    "# I can get the container by it's name.\n",
    "\n",
    "container_name = 'javabenchmarkapp-task1'\n",
    "container = None\n",
    "try:\n",
    "    container = client.containers.get(container_name)\n",
    "except requests.HTTPError:\n",
    "    print('No such container, need to run this image to create a new container')\n",
    "\n",
    "if container is None:\n",
    "    # Run a new container\n",
    "    container = client.containers.run(image='nclcloudcomputing/javabenchmarkapp', detach=True, name=container_name, ports={\"8080\": \"8080\"})\n",
    "    print(\"Successfully run a new container [{}] : {} : {}\".format(container_name, container, container.status))\n",
    "else:\n",
    "    print(\"The container already exists [{}]:[{}], the status is {}\".format(container_name, container.id, container.status))\n",
    "    if container.status == 'exited':\n",
    "        print(\"Start the container from exited status\")\n",
    "        container.start()\n",
    "\n",
    "# List all the running containers\n",
    "client.containers.list()"
   ],
   "metadata": {
    "collapsed": false,
    "pycharm": {
     "name": "#%%\n"
    }
   }
  },
  {
   "cell_type": "code",
   "execution_count": 61,
   "outputs": [
    {
     "name": "stdout",
     "output_type": "stream",
     "text": [
      "The result is Time: 154 ms\n"
     ]
    }
   ],
   "source": [
    "# Check if \"nclcloudcomputing/javabenchmarkapp\" is started successfully.\n",
    "res = requests.get(\"http://localhost:8080/primecheck\")\n",
    "print(\"The result is\", res.text)\n",
    "\n"
   ],
   "metadata": {
    "collapsed": false,
    "pycharm": {
     "name": "#%%\n"
    }
   }
  }
 ],
 "metadata": {
  "kernelspec": {
   "name": "pycharm-334b66da",
   "language": "python",
   "display_name": "PyCharm (assessment1)"
  },
  "language_info": {
   "codemirror_mode": {
    "name": "ipython",
    "version": 3
   },
   "file_extension": ".py",
   "mimetype": "text/x-python",
   "name": "python",
   "nbconvert_exporter": "python",
   "pygments_lexer": "ipython3",
   "version": "3.9.7"
  }
 },
 "nbformat": 4,
 "nbformat_minor": 5
}