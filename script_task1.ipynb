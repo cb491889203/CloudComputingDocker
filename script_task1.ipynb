{
 "cells": [
  {
   "cell_type": "code",
   "execution_count": 1,
   "outputs": [],
   "source": [
    "# Init environment\n",
    "import docker\n",
    "import requests\n",
    "\n",
    "client = docker.from_env()\n"
   ],
   "metadata": {
    "collapsed": false,
    "pycharm": {
     "name": "#%%\n"
    }
   }
  },
  {
   "cell_type": "markdown",
   "source": [
    "### TASK 1"
   ],
   "metadata": {
    "collapsed": false,
    "pycharm": {
     "name": "#%% md\n"
    }
   }
  },
  {
   "cell_type": "markdown",
   "source": [
    "#### 1. Create or retrieve the container.\n",
    "Because I have run the \"nclcloudcomputing/javabenchmarkapp\" via CLI using container name\n",
    "\"javabenchmarkapp-task1\", I can get the container by it's name."
   ],
   "metadata": {
    "collapsed": false,
    "pycharm": {
     "name": "#%% md\n"
    }
   }
  },
  {
   "cell_type": "code",
   "execution_count": 2,
   "outputs": [
    {
     "name": "stdout",
     "output_type": "stream",
     "text": [
      "No such container, need to run this image to create a new container\n",
      "Successfully run a new container [javabenchmarkapp-task1] : <Container: ca74151777> : created\n"
     ]
    },
    {
     "data": {
      "text/plain": "[<Container: ca74151777>,\n <Container: 720842b9aa>,\n <Container: 56b38db58d>,\n <Container: 475363c51c>,\n <Container: 8ba0f2a7fb>,\n <Container: 910efc0742>,\n <Container: f6dd6c97dd>]"
     },
     "execution_count": 2,
     "metadata": {},
     "output_type": "execute_result"
    }
   ],
   "source": [
    "image = 'nclcloudcomputing/javabenchmarkapp'\n",
    "container_name = 'javabenchmarkapp-task1'\n",
    "container = None\n",
    "try:\n",
    "    container = client.containers.get(container_name)\n",
    "except requests.HTTPError:\n",
    "    print('No such container, need to run this image to create a new container')\n",
    "\n",
    "if container is None:\n",
    "    # Run a new container\n",
    "    container = client.containers.run(image=image, detach=True, name=container_name, ports={\"8080\": \"8080\"})\n",
    "    print(\"Successfully run a new container [{}] : {} : {}\".format(container_name, container, container.status))\n",
    "else:\n",
    "    print(\"The container already exists [{}]:[{}], the status is {}\".format(container_name, container.id, container.status))\n",
    "    if container.status == 'exited':\n",
    "        print(\"Start the container from exited status\")\n",
    "        container.start()\n",
    "\n",
    "# List all the running containers\n",
    "client.containers.list()"
   ],
   "metadata": {
    "collapsed": false,
    "pycharm": {
     "name": "#%%\n"
    }
   }
  },
  {
   "cell_type": "markdown",
   "source": [
    "#### 2. Check if \"nclcloudcomputing/javabenchmarkapp\" is started successfully."
   ],
   "metadata": {
    "collapsed": false,
    "pycharm": {
     "name": "#%% md\n"
    }
   }
  },
  {
   "cell_type": "code",
   "execution_count": 3,
   "outputs": [
    {
     "name": "stdout",
     "output_type": "stream",
     "text": [
      "The result is Time: 156 ms\n"
     ]
    }
   ],
   "source": [
    "res = requests.get(\"http://localhost:8080/primecheck\")\n",
    "print(\"The result is\", res.text)\n",
    "\n"
   ],
   "metadata": {
    "collapsed": false,
    "pycharm": {
     "name": "#%%\n"
    }
   }
  }
 ],
 "metadata": {
  "kernelspec": {
   "name": "python3",
   "language": "python",
   "display_name": "Python 3 (ipykernel)"
  },
  "language_info": {
   "codemirror_mode": {
    "name": "ipython",
    "version": 3
   },
   "file_extension": ".py",
   "mimetype": "text/x-python",
   "name": "python",
   "nbconvert_exporter": "python",
   "pygments_lexer": "ipython3",
   "version": "3.9.7"
  }
 },
 "nbformat": 4,
 "nbformat_minor": 5
}