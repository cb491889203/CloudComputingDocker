{
 "cells": [
  {
   "cell_type": "code",
   "execution_count": 37,
   "outputs": [],
   "source": [
    "# Init environment\n",
    "import docker\n",
    "import python_on_whales as pow\n",
    "\n",
    "client = docker.from_env()\n",
    "pow_docker = pow.docker\n",
    "\n",
    "\n",
    "def printAllImages():\n",
    "    imgs = client.images.list()\n",
    "    for img in imgs:\n",
    "        print(img)"
   ],
   "metadata": {
    "collapsed": false,
    "pycharm": {
     "name": "#%%\n"
    }
   }
  },
  {
   "cell_type": "markdown",
   "source": [
    "TASK 2"
   ],
   "metadata": {
    "collapsed": false,
    "pycharm": {
     "name": "#%% md\n"
    }
   }
  },
  {
   "cell_type": "code",
   "source": [
    "# Define the images needed to use in task 2\n",
    "task2Imgs = ['locustio/locust','mongo','mongo-express','gcr.io/cadvisor/cadvisor','dockersamples/visualizer']\n",
    "\n",
    "# Show all the downloaded images.\n",
    "printAllImages()\n"
   ],
   "metadata": {
    "collapsed": false,
    "pycharm": {
     "name": "#%%\n"
    }
   },
   "execution_count": 38,
   "outputs": [
    {
     "name": "stdout",
     "output_type": "stream",
     "text": [
      "<Image: 'chenbao0707/cadvisor-scrapper:latest', 'cadvisor-scraper:latest'>\n",
      "<Image: ''>\n",
      "<Image: 'alpine/git:latest'>\n",
      "<Image: 'mongo:latest'>\n",
      "<Image: 'locustio/locust:latest'>\n",
      "<Image: 'mongo-express:latest'>\n",
      "<Image: 'ubuntu:latest'>\n",
      "<Image: 'dockersamples/visualizer:latest'>\n",
      "<Image: 'gcr.io/cadvisor/cadvisor:latest'>\n",
      "<Image: 'nclcloudcomputing/javabenchmarkapp:latest'>\n"
     ]
    }
   ]
  },
  {
   "cell_type": "code",
   "execution_count": 34,
   "outputs": [
    {
     "name": "stdout",
     "output_type": "stream",
     "text": [
      "No such image [ locustio/locust ], need not to delete it.\n",
      "No such image [ mongo ], need not to delete it.\n",
      "No such image [ mongo-express ], need not to delete it.\n",
      "No such image [ gcr.io/cadvisor/cadvisor ], need not to delete it.\n",
      "No such image [ dockersamples/visualizer ], need not to delete it.\n",
      "<Image: 'chenbao0707/cadvisor-scrapper:latest', 'cadvisor-scraper:latest'>\n",
      "<Image: 'alpine/git:latest'>\n",
      "<Image: 'ubuntu:latest'>\n",
      "<Image: 'nclcloudcomputing/javabenchmarkapp:latest'>\n"
     ]
    }
   ],
   "source": [
    "\"\"\"\n",
    "# 1. delete all the images that having downloaded by CLI.\n",
    "\n",
    "imgs = client.images.list()\n",
    "for task2Img in task2Imgs:\n",
    "    try:\n",
    "        client.images.remove(image = task2Img, force = True)\n",
    "        print(\"Image [\", task2Img , \"] has been deleted successfully.\")\n",
    "    except BaseException:\n",
    "        print(\"No such image [\", task2Img , \"], no need to delete it.\")\n",
    "\n",
    "# Check if those images have been deleted successfully.\n",
    "printAllImages()\n",
    "\n",
    "\"\"\"\n"
   ],
   "metadata": {
    "collapsed": false,
    "pycharm": {
     "name": "#%%\n"
    }
   }
  },
  {
   "cell_type": "code",
   "execution_count": 40,
   "outputs": [
    {
     "name": "stdout",
     "output_type": "stream",
     "text": [
      "Image [locustio/locust] exists or not: True\n",
      "Image [mongo] exists or not: True\n",
      "Image [mongo-express] exists or not: True\n",
      "Image [gcr.io/cadvisor/cadvisor] exists or not: True\n",
      "Image [dockersamples/visualizer] exists or not: True\n"
     ]
    }
   ],
   "source": [
    "# If those images do not exist, download them from Docker Hub.\n",
    "imgs = client.images.list()\n",
    "for task2Img in task2Imgs:\n",
    "    exist = False\n",
    "    for img in imgs:\n",
    "        if  len(img.tags) > 0 and img.tags[0] == task2Img + ':latest':\n",
    "            exist = True\n",
    "    print(\"Image [{}] exists or not: {}\".format(task2Img, exist))\n",
    "    if not exist:\n",
    "        # download if not eexist\n",
    "        print(\"Image [{}] not exist, download it now.\".format(task2Img))\n",
    "        client.images.pull(repository = task2Img)"
   ],
   "metadata": {
    "collapsed": false,
    "pycharm": {
     "name": "#%%\n"
    }
   }
  },
  {
   "cell_type": "code",
   "execution_count": 15,
   "outputs": [
    {
     "name": "stdout",
     "output_type": "stream",
     "text": [
      "<Image: 'chenbao0707/cadvisor-scrapper:latest', 'cadvisor-scraper:latest'>\n",
      "<Image: 'alpine/git:latest'>\n",
      "<Image: 'mongo:latest'>\n",
      "<Image: 'locustio/locust:latest'>\n",
      "<Image: 'mongo-express:latest'>\n",
      "<Image: 'ubuntu:latest'>\n",
      "<Image: 'dockersamples/visualizer:latest'>\n",
      "<Image: 'gcr.io/cadvisor/cadvisor:latest'>\n",
      "<Image: 'nclcloudcomputing/javabenchmarkapp:latest'>\n"
     ]
    }
   ],
   "source": [
    "# Check if those images have been deleted successfully.\n",
    "printAllImages()"
   ],
   "metadata": {
    "collapsed": false,
    "pycharm": {
     "name": "#%%\n"
    }
   }
  },
  {
   "cell_type": "code",
   "execution_count": 51,
   "outputs": [],
   "source": [
    "# Anyway, remove those services firstly.\n",
    "pow_docker.stack.remove('nclbenchmark')\n"
   ],
   "metadata": {
    "collapsed": false,
    "pycharm": {
     "name": "#%%\n"
    }
   }
  },
  {
   "cell_type": "code",
   "execution_count": 54,
   "outputs": [
    {
     "data": {
      "text/plain": "<python_on_whales.components.stack.cli_wrapper.Stack at 0x1f6c6f55520>"
     },
     "execution_count": 54,
     "metadata": {},
     "output_type": "execute_result"
    }
   ],
   "source": [
    "# Start up the compose services in swarm\n",
    "pow_docker.stack.deploy(name='nclbenchmark', compose_files= 'task2.yaml')\n"
   ],
   "metadata": {
    "collapsed": false,
    "pycharm": {
     "name": "#%%\n"
    }
   }
  },
  {
   "cell_type": "code",
   "execution_count": 55,
   "outputs": [
    {
     "data": {
      "text/plain": "[<Service: g4th8mwze5>,\n <Service: nyn7ovesv8>,\n <Service: sjzazsyrmw>,\n <Service: wc3wdvx8uk>,\n <Service: xp63zkm9af>,\n <Service: ylllwbqbkk>]"
     },
     "execution_count": 55,
     "metadata": {},
     "output_type": "execute_result"
    }
   ],
   "source": [
    "# Show if those services have bean started up successfully\n",
    "client.services.list()"
   ],
   "metadata": {
    "collapsed": false,
    "pycharm": {
     "name": "#%%\n"
    }
   }
  }
 ],
 "metadata": {
  "kernelspec": {
   "name": "pycharm-334b66da",
   "language": "python",
   "display_name": "PyCharm (assessment1)"
  },
  "language_info": {
   "codemirror_mode": {
    "name": "ipython",
    "version": 3
   },
   "file_extension": ".py",
   "mimetype": "text/x-python",
   "name": "python",
   "nbconvert_exporter": "python",
   "pygments_lexer": "ipython3",
   "version": "3.9.7"
  }
 },
 "nbformat": 4,
 "nbformat_minor": 5
}